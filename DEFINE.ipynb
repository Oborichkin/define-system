{
 "cells": [
  {
   "cell_type": "code",
   "execution_count": 60,
   "metadata": {},
   "outputs": [],
   "source": [
    "from collections import defaultdict\n",
    "import copy"
   ]
  },
  {
   "cell_type": "code",
   "execution_count": 1,
   "metadata": {},
   "outputs": [],
   "source": [
    "train = [\n",
    "    (1, 1, 1, 1, 1, 1, 1, 1, 1, 'a'),\n",
    "    (1, 1, 2, 2, 1, 1, 2, 1, 1, 'a'),\n",
    "    (2, 1, 2, 2, 1, 1, 3, 2, 4, 'a'),\n",
    "    (2, 1, 2, 4, 1, 1, 3, 2, 4, 'a'),\n",
    "    (1, 2, 1, 1, 2, 1, 1, 2, 1, 'b'),\n",
    "    (1, 2, 3, 3, 2, 1, 3, 1, 1, 'b'),\n",
    "    (2, 2, 1, 2, 1, 2, 4, 2, 2, 'b'),\n",
    "    (2, 3, 4, 4, 1, 1, 3, 2, 2, 'c'),\n",
    "    (2, 1, 4, 4, 1, 1, 4, 2, 3, 'c'),\n",
    "    (3, 4, 5, 3, 3, 3, 1, 3, 4, 'd'),\n",
    "    (4, 5, 5, 5, 2, 2, 4, 2, 1, 'd'),\n",
    "    (3, 5, 5, 1, 2, 1, 5, 2, 5, 'd'),\n",
    "    (3, 4, 3, 5, 4, 4, 2, 4, 1, 'e'),\n",
    "    (4, 2, 3, 3, 2, 4, 2, 2, 1, 'e')\n",
    "]"
   ]
  },
  {
   "cell_type": "code",
   "execution_count": 58,
   "metadata": {},
   "outputs": [],
   "source": [
    "train_dict = defaultdict(list)\n",
    "for x in train:\n",
    "    train_dict[x[-1]].append(x[:-1])"
   ]
  },
  {
   "cell_type": "code",
   "execution_count": 59,
   "metadata": {},
   "outputs": [
    {
     "data": {
      "text/plain": [
       "defaultdict(list,\n",
       "            {'a': [(1, 1, 1, 1, 1, 1, 1, 1, 1),\n",
       "              (1, 1, 2, 2, 1, 1, 2, 1, 1),\n",
       "              (2, 1, 2, 2, 1, 1, 3, 2, 4),\n",
       "              (2, 1, 2, 4, 1, 1, 3, 2, 4)],\n",
       "             'b': [(1, 2, 1, 1, 2, 1, 1, 2, 1),\n",
       "              (1, 2, 3, 3, 2, 1, 3, 1, 1),\n",
       "              (2, 2, 1, 2, 1, 2, 4, 2, 2)],\n",
       "             'c': [(2, 3, 4, 4, 1, 1, 3, 2, 2), (2, 1, 4, 4, 1, 1, 4, 2, 3)],\n",
       "             'd': [(3, 4, 5, 3, 3, 3, 1, 3, 4),\n",
       "              (4, 5, 5, 5, 2, 2, 4, 2, 1),\n",
       "              (3, 5, 5, 1, 2, 1, 5, 2, 5)],\n",
       "             'e': [(3, 4, 3, 5, 4, 4, 2, 4, 1), (4, 2, 3, 3, 2, 4, 2, 2, 1)]})"
      ]
     },
     "execution_count": 59,
     "metadata": {},
     "output_type": "execute_result"
    }
   ],
   "source": [
    "train_dict"
   ]
  },
  {
   "cell_type": "code",
   "execution_count": 57,
   "metadata": {},
   "outputs": [],
   "source": [
    "def kw(x, y):\n",
    "    assert len(x) == len(y)\n",
    "    count = 0\n",
    "    for i in range(len(x)):\n",
    "        if x[i] != y[i]:\n",
    "            count += 1\n",
    "    return count\n",
    "\n",
    "def mw(attr, d_plus, Q_j):\n",
    "    count = 0\n",
    "    for d_minus in Q_j:\n",
    "        if d_plus[attr] != d_minus[attr]:\n",
    "            count += 1\n",
    "    return count"
   ]
  },
  {
   "cell_type": "code",
   "execution_count": 23,
   "metadata": {},
   "outputs": [],
   "source": [
    "def distinguishing(x, y):\n",
    "    assert len(x) == len(y)\n",
    "    for i in range(len(x)):\n",
    "        if x[i] == y[i]:\n",
    "            continue\n",
    "        yield i"
   ]
  },
  {
   "cell_type": "code",
   "execution_count": 168,
   "metadata": {},
   "outputs": [],
   "source": [
    "def poisk(d_plus, Q_j_orig):\n",
    "    t = set()\n",
    "    Q_j = copy.deepcopy(Q_j_orig)\n",
    "    if d_plus in Q_j:\n",
    "        Q_j.remove(d_plus)\n",
    "    _kw = {d_minus: kw(d_plus, d_minus) for d_minus in Q_j}\n",
    "    _mw = {i: mw(i, d_plus, Q_j) for i in range(len(d_plus))}\n",
    "    while Q_j:\n",
    "        d_minus_selected = min(_kw, key=_kw.get)\n",
    "        attr_selected = max(_mw, key=_mw.get)\n",
    "        t.add(attr_selected)\n",
    "        for attr in distinguishing(d_plus, d_minus_selected):\n",
    "            _mw[attr] -= 1\n",
    "        Q_j.remove(d_minus_selected)\n",
    "        _kw.pop(d_minus_selected)\n",
    "    return t"
   ]
  },
  {
   "cell_type": "code",
   "execution_count": 169,
   "metadata": {},
   "outputs": [],
   "source": [
    "def my_poisk(d_plus, Q_j_orig):\n",
    "    t = set()\n",
    "    Q_j = copy.deepcopy(Q_j_orig)\n",
    "    if d_plus in Q_j:\n",
    "        Q_j.remove(d_plus)\n",
    "    _mw = {i: mw(i, d_plus, Q_j) for i in range(len(d_plus))}\n",
    "    while Q_j and _mw:\n",
    "        attr_selected = max(_mw, key=_mw.get)\n",
    "        t.add(attr_selected)\n",
    "        _mw.pop(attr_selected)\n",
    "        for_deletion = []\n",
    "        for d_minus in Q_j:\n",
    "            if attr_selected in distinguishing(d_plus, d_minus):\n",
    "                for_deletion.append(d_minus)\n",
    "        for d in for_deletion:\n",
    "            Q_j.remove(d)\n",
    "    return t"
   ]
  },
  {
   "cell_type": "code",
   "execution_count": 170,
   "metadata": {},
   "outputs": [],
   "source": [
    "def upravl(Q_i, Q_j):\n",
    "    T = set()\n",
    "    for d_plus in Q_i:\n",
    "        mt = poisk(d_plus, Q_j)\n",
    "        if mt not in T:\n",
    "            T = T.union(mt)\n",
    "    return T"
   ]
  },
  {
   "cell_type": "code",
   "execution_count": 171,
   "metadata": {},
   "outputs": [
    {
     "data": {
      "text/plain": [
       "{0, 2, 3, 6}"
      ]
     },
     "execution_count": 171,
     "metadata": {},
     "output_type": "execute_result"
    }
   ],
   "source": [
    "upravl(train_dict['a'], train_dict['a'])"
   ]
  },
  {
   "cell_type": "code",
   "execution_count": 204,
   "metadata": {},
   "outputs": [],
   "source": [
    "QMT = defaultdict(dict)\n",
    "for i in train_dict:\n",
    "    for j in train_dict:\n",
    "        QMT[i][j] = upravl(train_dict[i], train_dict[j])"
   ]
  },
  {
   "cell_type": "code",
   "execution_count": 205,
   "metadata": {},
   "outputs": [
    {
     "data": {
      "text/plain": [
       "defaultdict(dict,\n",
       "            {'a': {'a': {0, 2, 3, 6},\n",
       "              'b': {0, 1},\n",
       "              'c': {0, 2},\n",
       "              'd': {0},\n",
       "              'e': {0},\n",
       "              'x': {0}},\n",
       "             'b': {'a': {0, 1},\n",
       "              'b': {0, 2, 3},\n",
       "              'c': {0, 1},\n",
       "              'd': {0},\n",
       "              'e': {0},\n",
       "              'x': {0}},\n",
       "             'c': {'a': {0, 1, 2},\n",
       "              'b': {0, 1},\n",
       "              'c': {1},\n",
       "              'd': {0},\n",
       "              'e': {0},\n",
       "              'x': {0}},\n",
       "             'd': {'a': {0},\n",
       "              'b': {0},\n",
       "              'c': {0},\n",
       "              'd': {0, 1, 3},\n",
       "              'e': {0, 1, 2},\n",
       "              'x': {0, 1, 2}},\n",
       "             'e': {'a': {0},\n",
       "              'b': {0},\n",
       "              'c': {0},\n",
       "              'd': {0, 1, 2},\n",
       "              'e': {0},\n",
       "              'x': {0, 1, 4}},\n",
       "             'x': {'a': {0},\n",
       "              'b': {0},\n",
       "              'c': {0},\n",
       "              'd': {0, 1, 2},\n",
       "              'e': {0, 4, 7},\n",
       "              'x': {0}}})"
      ]
     },
     "execution_count": 205,
     "metadata": {},
     "output_type": "execute_result"
    }
   ],
   "source": [
    "QMT"
   ]
  },
  {
   "cell_type": "code",
   "execution_count": 199,
   "metadata": {},
   "outputs": [],
   "source": [
    "X = [\n",
    "    (3, 4, 3, 5, 3, 4, 2, 1, 1),\n",
    "    (4, 4, 3, 3, 2, 4, 2, 3, 5)\n",
    "]"
   ]
  },
  {
   "cell_type": "code",
   "execution_count": 201,
   "metadata": {},
   "outputs": [],
   "source": [
    "train_dict['x'] = X"
   ]
  },
  {
   "cell_type": "code",
   "execution_count": 214,
   "metadata": {},
   "outputs": [
    {
     "name": "stdout",
     "output_type": "stream",
     "text": [
      "Compare X with a\n",
      "{0} and {0, 2, 3, 6}\n",
      "Intersection of a and a is {0}\n",
      "{0} and {0, 1}\n",
      "Intersection of a and b is {0}\n",
      "{0} and {0, 2}\n",
      "Intersection of a and c is {0}\n",
      "{0, 1, 2} and {0}\n",
      "Intersection of a and d is {0}\n",
      "{0, 4, 7} and {0}\n",
      "Intersection of a and e is {0}\n",
      "Compare X with b\n",
      "{0} and {0, 1}\n",
      "Intersection of b and a is {0}\n",
      "{0} and {0, 2, 3}\n",
      "Intersection of b and b is {0}\n",
      "{0} and {0, 1}\n",
      "Intersection of b and c is {0}\n",
      "{0, 1, 2} and {0}\n",
      "Intersection of b and d is {0}\n",
      "{0, 4, 7} and {0}\n",
      "Intersection of b and e is {0}\n",
      "Compare X with c\n",
      "{0} and {0, 1, 2}\n",
      "Intersection of c and a is {0}\n",
      "{0} and {0, 1}\n",
      "Intersection of c and b is {0}\n",
      "{0} and {1}\n",
      "Intersection of c and c is set()\n",
      "{0, 1, 2} and {0}\n",
      "Intersection of c and d is {0}\n",
      "{0, 4, 7} and {0}\n",
      "Intersection of c and e is {0}\n",
      "Compare X with d\n",
      "{0} and {0}\n",
      "Intersection of d and a is {0}\n",
      "{0} and {0}\n",
      "Intersection of d and b is {0}\n",
      "{0} and {0}\n",
      "Intersection of d and c is {0}\n",
      "{0, 1, 2} and {0, 1, 3}\n",
      "Intersection of d and d is {0, 1}\n",
      "{0, 4, 7} and {0, 1, 2}\n",
      "Intersection of d and e is {0}\n",
      "Compare X with e\n",
      "{0} and {0}\n",
      "Intersection of e and a is {0}\n",
      "{0} and {0}\n",
      "Intersection of e and b is {0}\n",
      "{0} and {0}\n",
      "Intersection of e and c is {0}\n",
      "{0, 1, 2} and {0, 1, 2}\n",
      "Intersection of e and d is {0, 1, 2}\n",
      "{0, 4, 7} and {0}\n",
      "Intersection of e and e is {0}\n"
     ]
    }
   ],
   "source": [
    "sim = {}\n",
    "\n",
    "for x_c in QMT['x']:\n",
    "    if x_c == 'x':\n",
    "        continue\n",
    "\n",
    "    sim[x_c] = 0\n",
    "    print(f\"Compare X with {x_c}\")\n",
    "    for c_c in QMT[x_c]:\n",
    "        if c_c == 'x':\n",
    "            continue\n",
    "        print(f\"{QMT['x'][c_c]} and {QMT[x_c][c_c]}\")\n",
    "        print(f\"Intersection of {x_c} and {c_c} is {QMT[x_c][c_c].intersection(QMT['x'][c_c])}\")\n",
    "        sim[x_c] += len(QMT[x_c][c_c].intersection(QMT['x'][c_c]))\n"
   ]
  },
  {
   "cell_type": "code",
   "execution_count": 215,
   "metadata": {},
   "outputs": [
    {
     "data": {
      "text/plain": [
       "{'a': 5, 'b': 5, 'c': 4, 'd': 6, 'e': 7}"
      ]
     },
     "execution_count": 215,
     "metadata": {},
     "output_type": "execute_result"
    }
   ],
   "source": [
    "sim"
   ]
  },
  {
   "cell_type": "code",
   "execution_count": null,
   "metadata": {},
   "outputs": [],
   "source": []
  }
 ],
 "metadata": {
  "kernelspec": {
   "display_name": "Python 3",
   "language": "python",
   "name": "python3"
  },
  "language_info": {
   "codemirror_mode": {
    "name": "ipython",
    "version": 3
   },
   "file_extension": ".py",
   "mimetype": "text/x-python",
   "name": "python",
   "nbconvert_exporter": "python",
   "pygments_lexer": "ipython3",
   "version": "3.8.3"
  }
 },
 "nbformat": 4,
 "nbformat_minor": 4
}
